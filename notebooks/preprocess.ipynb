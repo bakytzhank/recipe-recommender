{
 "cells": [
  {
   "cell_type": "code",
   "execution_count": 10,
   "metadata": {},
   "outputs": [],
   "source": [
    "import pandas as pd\n",
    "import ast\n",
    "\n",
    "# Load the raw dataset\n",
    "df = pd.read_csv(\"../data/raw/full_dataset.csv\")\n",
    "\n",
    "# Preprocess the dataset\n",
    "df = df.drop(columns=['Unnamed: 0', 'link', 'source'])  # Drop unnecessary columns\n",
    "df['NER'] = df['NER'].apply(ast.literal_eval) # Convert string representation of list to actual list\n",
    "df['ingredients'] = df['ingredients'].apply(ast.literal_eval)\n",
    "df['directions'] = df['directions'].apply(ast.literal_eval)\n",
    "df['NER_str'] = df['NER'].apply(lambda x: ' '.join(x))  # Combine ingredients into a single string\n",
    "df = df[['title', 'ingredients', 'NER_str', 'directions']]  # Keep only necessary columns\n",
    "\n",
    "# Save the processed dataset in Parquet format\n",
    "df.to_parquet(\"../data/processed/cleaned_recipes.parquet\", index=False)"
   ]
  },
  {
   "cell_type": "code",
   "execution_count": 11,
   "metadata": {},
   "outputs": [
    {
     "data": {
      "text/plain": [
       "['1 c. firmly packed brown sugar',\n",
       " '1/2 c. evaporated milk',\n",
       " '1/2 tsp. vanilla',\n",
       " '1/2 c. broken nuts (pecans)',\n",
       " '2 Tbsp. butter or margarine',\n",
       " '3 1/2 c. bite size shredded rice biscuits']"
      ]
     },
     "execution_count": 11,
     "metadata": {},
     "output_type": "execute_result"
    }
   ],
   "source": [
    "df[\"ingredients\"][0]\n"
   ]
  },
  {
   "cell_type": "code",
   "execution_count": 6,
   "metadata": {},
   "outputs": [
    {
     "name": "stdout",
     "output_type": "stream",
     "text": [
      "0    brown sugar milk vanilla nuts butter bite size...\n",
      "1    beef chicken breasts cream of mushroom soup so...\n",
      "2    frozen corn cream cheese butter garlic powder ...\n",
      "3    chicken chicken gravy cream of mushroom soup s...\n",
      "4    peanut butter graham cracker crumbs butter pow...\n",
      "5    baking potatoes extra lean ground beef butter ...\n",
      "6    sugar butter egg buttermilk flour salt soda bu...\n",
      "7    cream-style corn whole kernel corn crackers eg...\n",
      "8    tomatoes water onions Worcestershire sauce gre...\n",
      "9    pineapple condensed milk lemons pecans graham ...\n",
      "Name: NER_str, dtype: object\n"
     ]
    }
   ],
   "source": [
    "print(df['NER_str'].head(10))"
   ]
  }
 ],
 "metadata": {
  "kernelspec": {
   "display_name": "Python 3",
   "language": "python",
   "name": "python3"
  },
  "language_info": {
   "codemirror_mode": {
    "name": "ipython",
    "version": 3
   },
   "file_extension": ".py",
   "mimetype": "text/x-python",
   "name": "python",
   "nbconvert_exporter": "python",
   "pygments_lexer": "ipython3",
   "version": "3.11.6"
  }
 },
 "nbformat": 4,
 "nbformat_minor": 2
}
